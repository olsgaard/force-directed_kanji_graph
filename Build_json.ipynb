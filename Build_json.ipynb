{
 "cells": [
  {
   "cell_type": "markdown",
   "metadata": {},
   "source": [
    "# Build JSON\n",
    "\n",
    "This notebook will extract all (or a selection of) jouyou kanji from the kradfile and generate a JSON file.\n",
    "\n",
    "#### Source files:\n",
    "\n",
    "* kradfile: http://www.kanjicafe.com/kradfile_license.htm\n",
    "\n",
    "#### D3.js force graphs\n",
    "\n",
    "* http://bl.ocks.org/mbostock/950642\n",
    "* https://github.com/mbostock/d3/wiki/Gallery\n",
    "* http://ramblings.mcpher.com/Home/excelquirks/d3/anyforce"
   ]
  },
  {
   "cell_type": "code",
   "execution_count": 1,
   "metadata": {
    "collapsed": false
   },
   "outputs": [
    {
     "name": "stdout",
     "output_type": "stream",
     "text": [
      "['亜', '哀', '愛', '悪', '握', '圧', '扱', '安', '暗', '案']\n"
     ]
    }
   ],
   "source": [
    "with open(\"jouyou.txt\", 'r') as f:\n",
    "    jouyou = f.read().split('\\n')\n",
    "print(jouyou[:10])"
   ]
  },
  {
   "cell_type": "code",
   "execution_count": 2,
   "metadata": {
    "collapsed": false
   },
   "outputs": [
    {
     "name": "stdout",
     "output_type": "stream",
     "text": [
      "㐂 : 匕\n",
      "㐆 : \n"
     ]
    }
   ],
   "source": [
    "with open(\"kradfile-u.txt\", 'r') as f:\n",
    "    krad = f.read()\n",
    "print(krad[:10])"
   ]
  },
  {
   "cell_type": "code",
   "execution_count": 12,
   "metadata": {
    "collapsed": false
   },
   "outputs": [
    {
     "name": "stdout",
     "output_type": "stream",
     "text": [
      "['亜 : ｜ 一 口', '哀 : 衣 口 亠', '愛 : 心 爪 冖 夂']\n"
     ]
    }
   ],
   "source": [
    "jkrad = []\n",
    "for kanji in jouyou:\n",
    "    kpos = krad.find(kanji)\n",
    "    eol = krad[kpos:].find('\\n')\n",
    "    jkrad.append(krad[kpos:kpos+eol])\n",
    "print(jkrad[:3])"
   ]
  },
  {
   "cell_type": "code",
   "execution_count": 19,
   "metadata": {
    "collapsed": false
   },
   "outputs": [
    {
     "name": "stdout",
     "output_type": "stream",
     "text": [
      "['獲', '災', '蚊', '擦', '麗', '仏', '失', '把', '挟', '伝']\n"
     ]
    }
   ],
   "source": [
    "nodes = list(set(''.join(jkrad)))\n",
    "nodes.pop(nodes.index(' '))\n",
    "nodes.pop(nodes.index(':'))\n",
    "print(nodes[:10])"
   ]
  },
  {
   "cell_type": "code",
   "execution_count": 20,
   "metadata": {
    "collapsed": false
   },
   "outputs": [
    {
     "data": {
      "text/plain": [
       "(2044, 1945)"
      ]
     },
     "execution_count": 20,
     "metadata": {},
     "output_type": "execute_result"
    }
   ],
   "source": [
    "len(nodes), len(jouyou)"
   ]
  },
  {
   "cell_type": "code",
   "execution_count": 21,
   "metadata": {
    "collapsed": false
   },
   "outputs": [
    {
     "name": "stdout",
     "output_type": "stream",
     "text": [
      "['癶', '辶', '辰', '殳', '卜', '毋', '爿', '丶', '刂', '廴']\n"
     ]
    }
   ],
   "source": [
    "rads = []\n",
    "for r in nodes:\n",
    "    if r not in jouyou:\n",
    "        rads.append(r)\n",
    "print(rads[:10])"
   ]
  },
  {
   "cell_type": "code",
   "execution_count": 23,
   "metadata": {
    "collapsed": false
   },
   "outputs": [
    {
     "data": {
      "text/plain": [
       "100"
      ]
     },
     "execution_count": 23,
     "metadata": {},
     "output_type": "execute_result"
    }
   ],
   "source": [
    "len(rads)"
   ]
  },
  {
   "cell_type": "code",
   "execution_count": null,
   "metadata": {
    "collapsed": true
   },
   "outputs": [],
   "source": []
  }
 ],
 "metadata": {
  "kernelspec": {
   "display_name": "Python 3",
   "language": "python",
   "name": "python3"
  },
  "language_info": {
   "codemirror_mode": {
    "name": "ipython",
    "version": 3
   },
   "file_extension": ".py",
   "mimetype": "text/x-python",
   "name": "python",
   "nbconvert_exporter": "python",
   "pygments_lexer": "ipython3",
   "version": "3.4.3"
  }
 },
 "nbformat": 4,
 "nbformat_minor": 0
}
